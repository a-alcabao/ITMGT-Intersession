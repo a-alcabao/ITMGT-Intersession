{
 "cells": [
  {
   "cell_type": "code",
   "execution_count": 2,
   "id": "fc150a67-51a7-48be-83bc-0fd7fea37b2b",
   "metadata": {},
   "outputs": [
    {
     "ename": "FileNotFoundError",
     "evalue": "File dim_customer.json does not exist",
     "output_type": "error",
     "traceback": [
      "\u001b[1;31m---------------------------------------------------------------------------\u001b[0m",
      "\u001b[1;31mFileNotFoundError\u001b[0m                         Traceback (most recent call last)",
      "Cell \u001b[1;32mIn[2], line 2\u001b[0m\n\u001b[0;32m      1\u001b[0m \u001b[38;5;28;01mimport\u001b[39;00m \u001b[38;5;21;01mpandas\u001b[39;00m \u001b[38;5;28;01mas\u001b[39;00m \u001b[38;5;21;01mpd\u001b[39;00m\n\u001b[1;32m----> 2\u001b[0m jsondf \u001b[38;5;241m=\u001b[39m \u001b[43mpd\u001b[49m\u001b[38;5;241;43m.\u001b[39;49m\u001b[43mread_json\u001b[49m\u001b[43m(\u001b[49m\u001b[38;5;124;43m\"\u001b[39;49m\u001b[38;5;124;43mdim_customer.json\u001b[39;49m\u001b[38;5;124;43m\"\u001b[39;49m\u001b[43m)\u001b[49m\n\u001b[0;32m      4\u001b[0m df \u001b[38;5;241m=\u001b[39m pd\u001b[38;5;241m.\u001b[39mread_csv(\u001b[38;5;124m\"\u001b[39m\u001b[38;5;124mfct_invoice.csv\u001b[39m\u001b[38;5;124m\"\u001b[39m)\n",
      "File \u001b[1;32m~\\anaconda3\\lib\\site-packages\\pandas\\util\\_decorators.py:211\u001b[0m, in \u001b[0;36mdeprecate_kwarg.<locals>._deprecate_kwarg.<locals>.wrapper\u001b[1;34m(*args, **kwargs)\u001b[0m\n\u001b[0;32m    209\u001b[0m     \u001b[38;5;28;01melse\u001b[39;00m:\n\u001b[0;32m    210\u001b[0m         kwargs[new_arg_name] \u001b[38;5;241m=\u001b[39m new_arg_value\n\u001b[1;32m--> 211\u001b[0m \u001b[38;5;28;01mreturn\u001b[39;00m func(\u001b[38;5;241m*\u001b[39margs, \u001b[38;5;241m*\u001b[39m\u001b[38;5;241m*\u001b[39mkwargs)\n",
      "File \u001b[1;32m~\\anaconda3\\lib\\site-packages\\pandas\\util\\_decorators.py:331\u001b[0m, in \u001b[0;36mdeprecate_nonkeyword_arguments.<locals>.decorate.<locals>.wrapper\u001b[1;34m(*args, **kwargs)\u001b[0m\n\u001b[0;32m    325\u001b[0m \u001b[38;5;28;01mif\u001b[39;00m \u001b[38;5;28mlen\u001b[39m(args) \u001b[38;5;241m>\u001b[39m num_allow_args:\n\u001b[0;32m    326\u001b[0m     warnings\u001b[38;5;241m.\u001b[39mwarn(\n\u001b[0;32m    327\u001b[0m         msg\u001b[38;5;241m.\u001b[39mformat(arguments\u001b[38;5;241m=\u001b[39m_format_argument_list(allow_args)),\n\u001b[0;32m    328\u001b[0m         \u001b[38;5;167;01mFutureWarning\u001b[39;00m,\n\u001b[0;32m    329\u001b[0m         stacklevel\u001b[38;5;241m=\u001b[39mfind_stack_level(),\n\u001b[0;32m    330\u001b[0m     )\n\u001b[1;32m--> 331\u001b[0m \u001b[38;5;28;01mreturn\u001b[39;00m func(\u001b[38;5;241m*\u001b[39margs, \u001b[38;5;241m*\u001b[39m\u001b[38;5;241m*\u001b[39mkwargs)\n",
      "File \u001b[1;32m~\\anaconda3\\lib\\site-packages\\pandas\\io\\json\\_json.py:733\u001b[0m, in \u001b[0;36mread_json\u001b[1;34m(path_or_buf, orient, typ, dtype, convert_axes, convert_dates, keep_default_dates, numpy, precise_float, date_unit, encoding, encoding_errors, lines, chunksize, compression, nrows, storage_options)\u001b[0m\n\u001b[0;32m    730\u001b[0m \u001b[38;5;28;01mif\u001b[39;00m convert_axes \u001b[38;5;129;01mis\u001b[39;00m \u001b[38;5;28;01mNone\u001b[39;00m \u001b[38;5;129;01mand\u001b[39;00m orient \u001b[38;5;241m!=\u001b[39m \u001b[38;5;124m\"\u001b[39m\u001b[38;5;124mtable\u001b[39m\u001b[38;5;124m\"\u001b[39m:\n\u001b[0;32m    731\u001b[0m     convert_axes \u001b[38;5;241m=\u001b[39m \u001b[38;5;28;01mTrue\u001b[39;00m\n\u001b[1;32m--> 733\u001b[0m json_reader \u001b[38;5;241m=\u001b[39m \u001b[43mJsonReader\u001b[49m\u001b[43m(\u001b[49m\n\u001b[0;32m    734\u001b[0m \u001b[43m    \u001b[49m\u001b[43mpath_or_buf\u001b[49m\u001b[43m,\u001b[49m\n\u001b[0;32m    735\u001b[0m \u001b[43m    \u001b[49m\u001b[43morient\u001b[49m\u001b[38;5;241;43m=\u001b[39;49m\u001b[43morient\u001b[49m\u001b[43m,\u001b[49m\n\u001b[0;32m    736\u001b[0m \u001b[43m    \u001b[49m\u001b[43mtyp\u001b[49m\u001b[38;5;241;43m=\u001b[39;49m\u001b[43mtyp\u001b[49m\u001b[43m,\u001b[49m\n\u001b[0;32m    737\u001b[0m \u001b[43m    \u001b[49m\u001b[43mdtype\u001b[49m\u001b[38;5;241;43m=\u001b[39;49m\u001b[43mdtype\u001b[49m\u001b[43m,\u001b[49m\n\u001b[0;32m    738\u001b[0m \u001b[43m    \u001b[49m\u001b[43mconvert_axes\u001b[49m\u001b[38;5;241;43m=\u001b[39;49m\u001b[43mconvert_axes\u001b[49m\u001b[43m,\u001b[49m\n\u001b[0;32m    739\u001b[0m \u001b[43m    \u001b[49m\u001b[43mconvert_dates\u001b[49m\u001b[38;5;241;43m=\u001b[39;49m\u001b[43mconvert_dates\u001b[49m\u001b[43m,\u001b[49m\n\u001b[0;32m    740\u001b[0m \u001b[43m    \u001b[49m\u001b[43mkeep_default_dates\u001b[49m\u001b[38;5;241;43m=\u001b[39;49m\u001b[43mkeep_default_dates\u001b[49m\u001b[43m,\u001b[49m\n\u001b[0;32m    741\u001b[0m \u001b[43m    \u001b[49m\u001b[43mnumpy\u001b[49m\u001b[38;5;241;43m=\u001b[39;49m\u001b[43mnumpy\u001b[49m\u001b[43m,\u001b[49m\n\u001b[0;32m    742\u001b[0m \u001b[43m    \u001b[49m\u001b[43mprecise_float\u001b[49m\u001b[38;5;241;43m=\u001b[39;49m\u001b[43mprecise_float\u001b[49m\u001b[43m,\u001b[49m\n\u001b[0;32m    743\u001b[0m \u001b[43m    \u001b[49m\u001b[43mdate_unit\u001b[49m\u001b[38;5;241;43m=\u001b[39;49m\u001b[43mdate_unit\u001b[49m\u001b[43m,\u001b[49m\n\u001b[0;32m    744\u001b[0m \u001b[43m    \u001b[49m\u001b[43mencoding\u001b[49m\u001b[38;5;241;43m=\u001b[39;49m\u001b[43mencoding\u001b[49m\u001b[43m,\u001b[49m\n\u001b[0;32m    745\u001b[0m \u001b[43m    \u001b[49m\u001b[43mlines\u001b[49m\u001b[38;5;241;43m=\u001b[39;49m\u001b[43mlines\u001b[49m\u001b[43m,\u001b[49m\n\u001b[0;32m    746\u001b[0m \u001b[43m    \u001b[49m\u001b[43mchunksize\u001b[49m\u001b[38;5;241;43m=\u001b[39;49m\u001b[43mchunksize\u001b[49m\u001b[43m,\u001b[49m\n\u001b[0;32m    747\u001b[0m \u001b[43m    \u001b[49m\u001b[43mcompression\u001b[49m\u001b[38;5;241;43m=\u001b[39;49m\u001b[43mcompression\u001b[49m\u001b[43m,\u001b[49m\n\u001b[0;32m    748\u001b[0m \u001b[43m    \u001b[49m\u001b[43mnrows\u001b[49m\u001b[38;5;241;43m=\u001b[39;49m\u001b[43mnrows\u001b[49m\u001b[43m,\u001b[49m\n\u001b[0;32m    749\u001b[0m \u001b[43m    \u001b[49m\u001b[43mstorage_options\u001b[49m\u001b[38;5;241;43m=\u001b[39;49m\u001b[43mstorage_options\u001b[49m\u001b[43m,\u001b[49m\n\u001b[0;32m    750\u001b[0m \u001b[43m    \u001b[49m\u001b[43mencoding_errors\u001b[49m\u001b[38;5;241;43m=\u001b[39;49m\u001b[43mencoding_errors\u001b[49m\u001b[43m,\u001b[49m\n\u001b[0;32m    751\u001b[0m \u001b[43m\u001b[49m\u001b[43m)\u001b[49m\n\u001b[0;32m    753\u001b[0m \u001b[38;5;28;01mif\u001b[39;00m chunksize:\n\u001b[0;32m    754\u001b[0m     \u001b[38;5;28;01mreturn\u001b[39;00m json_reader\n",
      "File \u001b[1;32m~\\anaconda3\\lib\\site-packages\\pandas\\io\\json\\_json.py:818\u001b[0m, in \u001b[0;36mJsonReader.__init__\u001b[1;34m(self, filepath_or_buffer, orient, typ, dtype, convert_axes, convert_dates, keep_default_dates, numpy, precise_float, date_unit, encoding, lines, chunksize, compression, nrows, storage_options, encoding_errors)\u001b[0m\n\u001b[0;32m    815\u001b[0m     \u001b[38;5;28;01mif\u001b[39;00m \u001b[38;5;129;01mnot\u001b[39;00m \u001b[38;5;28mself\u001b[39m\u001b[38;5;241m.\u001b[39mlines:\n\u001b[0;32m    816\u001b[0m         \u001b[38;5;28;01mraise\u001b[39;00m \u001b[38;5;167;01mValueError\u001b[39;00m(\u001b[38;5;124m\"\u001b[39m\u001b[38;5;124mnrows can only be passed if lines=True\u001b[39m\u001b[38;5;124m\"\u001b[39m)\n\u001b[1;32m--> 818\u001b[0m data \u001b[38;5;241m=\u001b[39m \u001b[38;5;28;43mself\u001b[39;49m\u001b[38;5;241;43m.\u001b[39;49m\u001b[43m_get_data_from_filepath\u001b[49m\u001b[43m(\u001b[49m\u001b[43mfilepath_or_buffer\u001b[49m\u001b[43m)\u001b[49m\n\u001b[0;32m    819\u001b[0m \u001b[38;5;28mself\u001b[39m\u001b[38;5;241m.\u001b[39mdata \u001b[38;5;241m=\u001b[39m \u001b[38;5;28mself\u001b[39m\u001b[38;5;241m.\u001b[39m_preprocess_data(data)\n",
      "File \u001b[1;32m~\\anaconda3\\lib\\site-packages\\pandas\\io\\json\\_json.py:874\u001b[0m, in \u001b[0;36mJsonReader._get_data_from_filepath\u001b[1;34m(self, filepath_or_buffer)\u001b[0m\n\u001b[0;32m    866\u001b[0m     filepath_or_buffer \u001b[38;5;241m=\u001b[39m \u001b[38;5;28mself\u001b[39m\u001b[38;5;241m.\u001b[39mhandles\u001b[38;5;241m.\u001b[39mhandle\n\u001b[0;32m    867\u001b[0m \u001b[38;5;28;01melif\u001b[39;00m (\n\u001b[0;32m    868\u001b[0m     \u001b[38;5;28misinstance\u001b[39m(filepath_or_buffer, \u001b[38;5;28mstr\u001b[39m)\n\u001b[0;32m    869\u001b[0m     \u001b[38;5;129;01mand\u001b[39;00m filepath_or_buffer\u001b[38;5;241m.\u001b[39mlower()\u001b[38;5;241m.\u001b[39mendswith(\n\u001b[1;32m   (...)\u001b[0m\n\u001b[0;32m    872\u001b[0m     \u001b[38;5;129;01mand\u001b[39;00m \u001b[38;5;129;01mnot\u001b[39;00m file_exists(filepath_or_buffer)\n\u001b[0;32m    873\u001b[0m ):\n\u001b[1;32m--> 874\u001b[0m     \u001b[38;5;28;01mraise\u001b[39;00m \u001b[38;5;167;01mFileNotFoundError\u001b[39;00m(\u001b[38;5;124mf\u001b[39m\u001b[38;5;124m\"\u001b[39m\u001b[38;5;124mFile \u001b[39m\u001b[38;5;132;01m{\u001b[39;00mfilepath_or_buffer\u001b[38;5;132;01m}\u001b[39;00m\u001b[38;5;124m does not exist\u001b[39m\u001b[38;5;124m\"\u001b[39m)\n\u001b[0;32m    876\u001b[0m \u001b[38;5;28;01mreturn\u001b[39;00m filepath_or_buffer\n",
      "\u001b[1;31mFileNotFoundError\u001b[0m: File dim_customer.json does not exist"
     ]
    }
   ],
   "source": [
    "import pandas as pd\n",
    "jsondf = pd.read_json(\"dim_customer.json\")\n",
    "\n",
    "df = pd.read_csv(\"fct_invoice.csv\")"
   ]
  },
  {
   "cell_type": "markdown",
   "id": "11f52b46-6ef0-4ac7-bdba-e46b94f54a8a",
   "metadata": {},
   "source": [
    "# Easy"
   ]
  },
  {
   "cell_type": "markdown",
   "id": "3c08a375-4b62-4dd0-b0b7-f9e9327e13ba",
   "metadata": {},
   "source": [
    "1. How many unique customers are in the dataset?"
   ]
  },
  {
   "cell_type": "code",
   "execution_count": null,
   "id": "c28e709b-09a9-4941-9501-4c8d00ec0919",
   "metadata": {},
   "outputs": [],
   "source": [
    "print(df[\"customer_id\"].nunique())"
   ]
  },
  {
   "cell_type": "markdown",
   "id": "3b6c7a1d-1909-47a3-a48d-2ce3efe3cf7f",
   "metadata": {},
   "source": [
    "2. What are the different categories of products available? How many unique categories are there?"
   ]
  },
  {
   "cell_type": "code",
   "execution_count": null,
   "id": "04299f68-53bf-4ed8-9f9b-cffb1b45f7d5",
   "metadata": {},
   "outputs": [],
   "source": [
    "categories = df[\"category\"].unique()\n",
    "nCategories = df[\"category\"].nunique()\n",
    "\n",
    "print(\"Available categories: \",categories)\n",
    "print(\"Number of unique categories: \",nCategories)"
   ]
  },
  {
   "cell_type": "markdown",
   "id": "402c2ebd-2a2f-41d9-93a4-f0f0a5d976bf",
   "metadata": {},
   "source": [
    "3. Which payment method is the most popular? How many times was it used?"
   ]
  },
  {
   "cell_type": "code",
   "execution_count": null,
   "id": "763aa8a4-44eb-4a9c-b2aa-c66b8b1e3887",
   "metadata": {},
   "outputs": [],
   "source": [
    "popularMethod = df['payment_method'].value_counts().idxmax()\n",
    "popularCount = df[\"payment_method\"].value_counts().max()\n",
    "\n",
    "print(\"Most popular payment method: \", popularMethod)\n",
    "print(\"Times used: \", popularCount)"
   ]
  },
  {
   "cell_type": "markdown",
   "id": "32a699f7-963c-458e-8469-d613d7e47c2f",
   "metadata": {},
   "source": [
    "# Medium"
   ]
  },
  {
   "cell_type": "markdown",
   "id": "c41e9e0e-dcf0-4b8e-a27e-557b95641072",
   "metadata": {},
   "source": [
    "1. What are the three most popular categories, by total sales?"
   ]
  },
  {
   "cell_type": "code",
   "execution_count": null,
   "id": "7bc086cc-206a-44d7-88c8-51909e1ddc4b",
   "metadata": {},
   "outputs": [],
   "source": [
    "df.groupby('category').sum()[\"quantity\"].sort_values(ascending=False).head(3)"
   ]
  },
  {
   "cell_type": "markdown",
   "id": "f22a6faf-58d0-4a87-a69f-79b82b836596",
   "metadata": {},
   "source": [
    "2. What are the total sales attributed to customers over the age of 45?"
   ]
  },
  {
   "cell_type": "code",
   "execution_count": null,
   "id": "9974d016-41f9-4c9f-ba5f-dbb6f51fe8ee",
   "metadata": {
    "tags": []
   },
   "outputs": [],
   "source": [
    "df1 = df.rename(columns={'customer_id': 'id'}).copy()\n",
    "\n",
    "mergeddf = pd.merge(df1, jsondf, on = ['id'], how = 'left')\n",
    "mergeddf[mergeddf[\"age\"] > 45.0].sum()['quantity']"
   ]
  },
  {
   "cell_type": "markdown",
   "id": "aa058fd9-6fc9-46e6-a6fe-e2a6ec59b062",
   "metadata": {},
   "source": [
    "3. How is the data distributed across different invoice dates? Are there any seasonal trends or patterns? (Use a graph for this.)"
   ]
  },
  {
   "cell_type": "code",
   "execution_count": null,
   "id": "0f2dea23-1742-4c17-b5aa-74cafc3bf51a",
   "metadata": {},
   "outputs": [],
   "source": [
    "import matplotlib.pyplot as plt\n",
    "import pandas as pd\n",
    "\n",
    "def dateExtract(date):\n",
    "    year = date[-4:]\n",
    "    month = date[date.find(\"/\")+1:date.find(\"/\",date.find(\"/\")+1)]\n",
    "    if len(month) == 1:\n",
    "        month = \"0\" + str(month)\n",
    "    monthYear = (year+\"/\"+month)\n",
    "    return monthYear\n",
    "\n",
    "mergeddf[\"monthYear\"] = mergeddf[\"invoice_date\"].apply(dateExtract)\n",
    "graphData = mergeddf.groupby(\"monthYear\").sum()['quantity'].sort_index()\n",
    "\n",
    "plt.plot(graphData.index, graphData.values)\n",
    "plt.xlabel(\"Month-Year\")\n",
    "plt.ylabel(\"Total Sales Quantity\")\n",
    "plt.title(\"Sales per Month\")\n",
    "plt.xticks(rotation = 90)\n",
    "plt.xlim(graphData.index[0], graphData.index[-1])\n",
    "\n",
    "plt.show()"
   ]
  },
  {
   "cell_type": "markdown",
   "id": "8f939b73-faf5-492a-98f1-2ed7c679e4fa",
   "metadata": {},
   "source": [
    "As shown in the graph, sales are generally steady throughout the year, but have massive drops in the month of February and smaller drops in September. Nevertheless, they stabilize in the succeeding months of March and October. Furthermore, it is interesting to note that sales do not peak in December considering that December is the peak of Christmas season."
   ]
  },
  {
   "cell_type": "markdown",
   "id": "0e90a93c-3390-44b9-a4d7-fc66985272e8",
   "metadata": {},
   "source": [
    "# Hard"
   ]
  },
  {
   "cell_type": "markdown",
   "id": "5fcfc4f2-e2b4-4668-ba1f-35988986501e",
   "metadata": {},
   "source": [
    "1. Create a pivot table showing the breakdown of sales across these dimensions, in this order: category, decade age range (e.g., 10-19, 20-29, and so forth)."
   ]
  },
  {
   "cell_type": "code",
   "execution_count": null,
   "id": "88a574ac-ff63-466d-9999-ef34e8d9468d",
   "metadata": {},
   "outputs": [],
   "source": [
    "pd.set_option('display.max_rows', None)\n",
    "def age_Range(age):\n",
    "    ageBracket = ''\n",
    "    if age < 20:\n",
    "        ageBracket = '10-19'\n",
    "    elif age < 30:\n",
    "        ageBracket = '20-29'\n",
    "    elif age < 40:\n",
    "        ageBracket = '30-39'\n",
    "    elif age < 50:\n",
    "        ageBracket = '40-49'\n",
    "    elif age < 60:\n",
    "        ageBracket = '50-59'\n",
    "    elif age < 70:\n",
    "        ageBracket = '60-69'\n",
    "    elif age < 80:\n",
    "        ageBracket = '70-79'\n",
    "    elif age < 90:\n",
    "        ageBracket = '80-89'\n",
    "    return ageBracket\n",
    "        \n",
    "mergeddf['ageRange'] = mergeddf['age'].apply(age_Range)\n",
    "mergeddf.groupby(['category','ageRange']).sum()['quantity']\n"
   ]
  }
 ],
 "metadata": {
  "kernelspec": {
   "display_name": "Python 3 (ipykernel)",
   "language": "python",
   "name": "python3"
  },
  "language_info": {
   "codemirror_mode": {
    "name": "ipython",
    "version": 3
   },
   "file_extension": ".py",
   "mimetype": "text/x-python",
   "name": "python",
   "nbconvert_exporter": "python",
   "pygments_lexer": "ipython3",
   "version": "3.10.9"
  }
 },
 "nbformat": 4,
 "nbformat_minor": 5
}
