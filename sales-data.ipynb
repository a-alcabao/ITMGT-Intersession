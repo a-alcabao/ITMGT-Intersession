{
 "cells": [
  {
   "cell_type": "code",
   "execution_count": 1,
   "id": "fc150a67-51a7-48be-83bc-0fd7fea37b2b",
   "metadata": {},
   "outputs": [
    {
     "data": {
      "text/html": [
       "<div>\n",
       "<style scoped>\n",
       "    .dataframe tbody tr th:only-of-type {\n",
       "        vertical-align: middle;\n",
       "    }\n",
       "\n",
       "    .dataframe tbody tr th {\n",
       "        vertical-align: top;\n",
       "    }\n",
       "\n",
       "    .dataframe thead th {\n",
       "        text-align: right;\n",
       "    }\n",
       "</style>\n",
       "<table border=\"1\" class=\"dataframe\">\n",
       "  <thead>\n",
       "    <tr style=\"text-align: right;\">\n",
       "      <th></th>\n",
       "      <th>invoice_no</th>\n",
       "      <th>customer_id</th>\n",
       "      <th>category</th>\n",
       "      <th>quantity</th>\n",
       "      <th>price</th>\n",
       "      <th>payment_method</th>\n",
       "      <th>invoice_date</th>\n",
       "      <th>shopping_mall</th>\n",
       "    </tr>\n",
       "  </thead>\n",
       "  <tbody>\n",
       "    <tr>\n",
       "      <th>0</th>\n",
       "      <td>I138884</td>\n",
       "      <td>229</td>\n",
       "      <td>Clothing</td>\n",
       "      <td>5</td>\n",
       "      <td>1500.40</td>\n",
       "      <td>Credit Card</td>\n",
       "      <td>5/8/2022</td>\n",
       "      <td>Kanyon</td>\n",
       "    </tr>\n",
       "    <tr>\n",
       "      <th>1</th>\n",
       "      <td>I317333</td>\n",
       "      <td>3433</td>\n",
       "      <td>Shoes</td>\n",
       "      <td>3</td>\n",
       "      <td>1800.51</td>\n",
       "      <td>Debit Card</td>\n",
       "      <td>12/12/2021</td>\n",
       "      <td>Forum Istanbul</td>\n",
       "    </tr>\n",
       "    <tr>\n",
       "      <th>2</th>\n",
       "      <td>I127801</td>\n",
       "      <td>644</td>\n",
       "      <td>Clothing</td>\n",
       "      <td>1</td>\n",
       "      <td>300.08</td>\n",
       "      <td>Cash</td>\n",
       "      <td>9/11/2021</td>\n",
       "      <td>Metrocity</td>\n",
       "    </tr>\n",
       "    <tr>\n",
       "      <th>3</th>\n",
       "      <td>I173702</td>\n",
       "      <td>4900</td>\n",
       "      <td>Shoes</td>\n",
       "      <td>5</td>\n",
       "      <td>3000.85</td>\n",
       "      <td>Credit Card</td>\n",
       "      <td>16/05/2021</td>\n",
       "      <td>Metropol AVM</td>\n",
       "    </tr>\n",
       "    <tr>\n",
       "      <th>4</th>\n",
       "      <td>I337046</td>\n",
       "      <td>1089</td>\n",
       "      <td>Books</td>\n",
       "      <td>4</td>\n",
       "      <td>60.60</td>\n",
       "      <td>Cash</td>\n",
       "      <td>24/10/2021</td>\n",
       "      <td>Kanyon</td>\n",
       "    </tr>\n",
       "    <tr>\n",
       "      <th>...</th>\n",
       "      <td>...</td>\n",
       "      <td>...</td>\n",
       "      <td>...</td>\n",
       "      <td>...</td>\n",
       "      <td>...</td>\n",
       "      <td>...</td>\n",
       "      <td>...</td>\n",
       "      <td>...</td>\n",
       "    </tr>\n",
       "    <tr>\n",
       "      <th>99452</th>\n",
       "      <td>I219422</td>\n",
       "      <td>2344</td>\n",
       "      <td>Souvenir</td>\n",
       "      <td>5</td>\n",
       "      <td>58.65</td>\n",
       "      <td>Credit Card</td>\n",
       "      <td>21/09/2022</td>\n",
       "      <td>Kanyon</td>\n",
       "    </tr>\n",
       "    <tr>\n",
       "      <th>99453</th>\n",
       "      <td>I325143</td>\n",
       "      <td>172</td>\n",
       "      <td>Food &amp; Beverage</td>\n",
       "      <td>2</td>\n",
       "      <td>10.46</td>\n",
       "      <td>Cash</td>\n",
       "      <td>22/09/2021</td>\n",
       "      <td>Forum Istanbul</td>\n",
       "    </tr>\n",
       "    <tr>\n",
       "      <th>99454</th>\n",
       "      <td>I824010</td>\n",
       "      <td>425</td>\n",
       "      <td>Food &amp; Beverage</td>\n",
       "      <td>2</td>\n",
       "      <td>10.46</td>\n",
       "      <td>Debit Card</td>\n",
       "      <td>28/03/2021</td>\n",
       "      <td>Metrocity</td>\n",
       "    </tr>\n",
       "    <tr>\n",
       "      <th>99455</th>\n",
       "      <td>I702964</td>\n",
       "      <td>577</td>\n",
       "      <td>Technology</td>\n",
       "      <td>4</td>\n",
       "      <td>4200.00</td>\n",
       "      <td>Cash</td>\n",
       "      <td>16/03/2021</td>\n",
       "      <td>Istinye Park</td>\n",
       "    </tr>\n",
       "    <tr>\n",
       "      <th>99456</th>\n",
       "      <td>I232867</td>\n",
       "      <td>30</td>\n",
       "      <td>Souvenir</td>\n",
       "      <td>3</td>\n",
       "      <td>35.19</td>\n",
       "      <td>Credit Card</td>\n",
       "      <td>15/10/2022</td>\n",
       "      <td>Mall of Istanbul</td>\n",
       "    </tr>\n",
       "  </tbody>\n",
       "</table>\n",
       "<p>99457 rows × 8 columns</p>\n",
       "</div>"
      ],
      "text/plain": [
       "      invoice_no  customer_id         category  quantity    price  \\\n",
       "0        I138884          229         Clothing         5  1500.40   \n",
       "1        I317333         3433            Shoes         3  1800.51   \n",
       "2        I127801          644         Clothing         1   300.08   \n",
       "3        I173702         4900            Shoes         5  3000.85   \n",
       "4        I337046         1089            Books         4    60.60   \n",
       "...          ...          ...              ...       ...      ...   \n",
       "99452    I219422         2344         Souvenir         5    58.65   \n",
       "99453    I325143          172  Food & Beverage         2    10.46   \n",
       "99454    I824010          425  Food & Beverage         2    10.46   \n",
       "99455    I702964          577       Technology         4  4200.00   \n",
       "99456    I232867           30         Souvenir         3    35.19   \n",
       "\n",
       "      payment_method invoice_date     shopping_mall  \n",
       "0        Credit Card     5/8/2022            Kanyon  \n",
       "1         Debit Card   12/12/2021    Forum Istanbul  \n",
       "2               Cash    9/11/2021         Metrocity  \n",
       "3        Credit Card   16/05/2021      Metropol AVM  \n",
       "4               Cash   24/10/2021            Kanyon  \n",
       "...              ...          ...               ...  \n",
       "99452    Credit Card   21/09/2022            Kanyon  \n",
       "99453           Cash   22/09/2021    Forum Istanbul  \n",
       "99454     Debit Card   28/03/2021         Metrocity  \n",
       "99455           Cash   16/03/2021      Istinye Park  \n",
       "99456    Credit Card   15/10/2022  Mall of Istanbul  \n",
       "\n",
       "[99457 rows x 8 columns]"
      ]
     },
     "execution_count": 1,
     "metadata": {},
     "output_type": "execute_result"
    }
   ],
   "source": [
    "import pandas as pd\n",
    "jsondf = pd.read_json(\"dim_customer.json\")\n",
    "\n",
    "df = pd.read_csv(\"fct_invoice.csv\")\n",
    "\n",
    "df"
   ]
  },
  {
   "cell_type": "markdown",
   "id": "11f52b46-6ef0-4ac7-bdba-e46b94f54a8a",
   "metadata": {},
   "source": [
    "# Easy"
   ]
  },
  {
   "cell_type": "markdown",
   "id": "3c08a375-4b62-4dd0-b0b7-f9e9327e13ba",
   "metadata": {},
   "source": [
    "1. How many unique customers are in the dataset?"
   ]
  },
  {
   "cell_type": "code",
   "execution_count": 2,
   "id": "c28e709b-09a9-4941-9501-4c8d00ec0919",
   "metadata": {},
   "outputs": [
    {
     "name": "stdout",
     "output_type": "stream",
     "text": [
      "5191\n"
     ]
    }
   ],
   "source": [
    "print(df[\"customer_id\"].nunique())"
   ]
  },
  {
   "cell_type": "markdown",
   "id": "3b6c7a1d-1909-47a3-a48d-2ce3efe3cf7f",
   "metadata": {},
   "source": [
    "2. What are the different categories of products available? How many unique categories are there?"
   ]
  },
  {
   "cell_type": "code",
   "execution_count": 3,
   "id": "04299f68-53bf-4ed8-9f9b-cffb1b45f7d5",
   "metadata": {},
   "outputs": [
    {
     "name": "stdout",
     "output_type": "stream",
     "text": [
      "Available categories:  ['Clothing' 'Shoes' 'Books' 'Cosmetics' 'Food & Beverage' 'Toys'\n",
      " 'Technology' 'Souvenir']\n",
      "Number of unique categories:  8\n"
     ]
    }
   ],
   "source": [
    "categories = df[\"category\"].unique()\n",
    "nCategories = df[\"category\"].nunique()\n",
    "\n",
    "print(\"Available categories: \",categories)\n",
    "print(\"Number of unique categories: \",nCategories)"
   ]
  },
  {
   "cell_type": "markdown",
   "id": "402c2ebd-2a2f-41d9-93a4-f0f0a5d976bf",
   "metadata": {},
   "source": [
    "3. Which payment method is the most popular? How many times was it used?"
   ]
  },
  {
   "cell_type": "code",
   "execution_count": 4,
   "id": "763aa8a4-44eb-4a9c-b2aa-c66b8b1e3887",
   "metadata": {},
   "outputs": [
    {
     "name": "stdout",
     "output_type": "stream",
     "text": [
      "Most popular payment method:  Cash\n",
      "Times used:  44447\n"
     ]
    }
   ],
   "source": [
    "popularMethod = df['payment_method'].value_counts().idxmax()\n",
    "popularCount = df[\"payment_method\"].value_counts().max()\n",
    "\n",
    "print(\"Most popular payment method: \", popularMethod)\n",
    "print(\"Times used: \", popularCount)"
   ]
  },
  {
   "cell_type": "markdown",
   "id": "32a699f7-963c-458e-8469-d613d7e47c2f",
   "metadata": {},
   "source": [
    "# Medium"
   ]
  },
  {
   "cell_type": "markdown",
   "id": "c41e9e0e-dcf0-4b8e-a27e-557b95641072",
   "metadata": {},
   "source": [
    "1. What are the three most popular categories, by total sales?"
   ]
  },
  {
   "cell_type": "code",
   "execution_count": 5,
   "id": "7bc086cc-206a-44d7-88c8-51909e1ddc4b",
   "metadata": {},
   "outputs": [
    {
     "name": "stderr",
     "output_type": "stream",
     "text": [
      "C:\\Users\\migue\\AppData\\Local\\Temp\\ipykernel_22016\\2089846056.py:2: FutureWarning: The default value of numeric_only in DataFrameGroupBy.sum is deprecated. In a future version, numeric_only will default to False. Either specify numeric_only or select only columns which should be valid for the function.\n",
      "  df.groupby('category').sum()[\"sales\"].sort_values(ascending=False).head(3)\n"
     ]
    },
    {
     "data": {
      "text/plain": [
       "category\n",
       "Clothing      1.139968e+08\n",
       "Shoes         6.655345e+07\n",
       "Technology    5.786235e+07\n",
       "Name: sales, dtype: float64"
      ]
     },
     "execution_count": 5,
     "metadata": {},
     "output_type": "execute_result"
    }
   ],
   "source": [
    "df['sales'] = df['quantity']*df['price']\n",
    "df.groupby('category').sum()[\"sales\"].sort_values(ascending=False).head(3)"
   ]
  },
  {
   "cell_type": "markdown",
   "id": "f22a6faf-58d0-4a87-a69f-79b82b836596",
   "metadata": {},
   "source": [
    "2. What are the total sales attributed to customers over the age of 45?"
   ]
  },
  {
   "cell_type": "code",
   "execution_count": 6,
   "id": "9974d016-41f9-4c9f-ba5f-dbb6f51fe8ee",
   "metadata": {
    "tags": []
   },
   "outputs": [
    {
     "data": {
      "text/plain": [
       "82039768.15"
      ]
     },
     "execution_count": 6,
     "metadata": {},
     "output_type": "execute_result"
    }
   ],
   "source": [
    "df1 = df.rename(columns={'customer_id': 'id'}).copy()\n",
    "\n",
    "mergeddf = pd.merge(df1, jsondf, on = ['id'], how = 'left')\n",
    "mergeddf[mergeddf[\"age\"] > 45.0].sum()['sales']"
   ]
  },
  {
   "cell_type": "markdown",
   "id": "aa058fd9-6fc9-46e6-a6fe-e2a6ec59b062",
   "metadata": {},
   "source": [
    "3. How is the data distributed across different invoice dates? Are there any seasonal trends or patterns? (Use a graph for this.)"
   ]
  },
  {
   "cell_type": "code",
   "execution_count": 7,
   "id": "0f2dea23-1742-4c17-b5aa-74cafc3bf51a",
   "metadata": {},
   "outputs": [
    {
     "name": "stderr",
     "output_type": "stream",
     "text": [
      "C:\\Users\\migue\\AppData\\Local\\Temp\\ipykernel_22016\\962124844.py:13: FutureWarning: The default value of numeric_only in DataFrameGroupBy.sum is deprecated. In a future version, numeric_only will default to False. Either specify numeric_only or select only columns which should be valid for the function.\n",
      "  graphData = mergeddf.groupby(\"monthYear\").sum()['sales'].sort_index()\n"
     ]
    },
    {
     "data": {
      "image/png": "[encoded data removed]",
      "text/plain": [
       "<Figure size 640x480 with 1 Axes>"
      ]
     },
     "metadata": {},
     "output_type": "display_data"
    }
   ],
   "source": [
    "import matplotlib.pyplot as plt\n",
    "import pandas as pd\n",
    "\n",
    "def dateExtract(date):\n",
    "    year = date[-4:]\n",
    "    month = date[date.find(\"/\")+1:date.find(\"/\",date.find(\"/\")+1)]\n",
    "    if len(month) == 1:\n",
    "        month = \"0\" + str(month)\n",
    "    monthYear = (year+\"/\"+month)\n",
    "    return monthYear\n",
    "\n",
    "mergeddf[\"monthYear\"] = mergeddf[\"invoice_date\"].apply(dateExtract)\n",
    "graphData = mergeddf.groupby(\"monthYear\").sum()['sales'].sort_index()\n",
    "\n",
    "plt.plot(graphData.index, graphData.values)\n",
    "plt.xlabel(\"Month-Year\")\n",
    "plt.ylabel(\"Total Sales\")\n",
    "plt.title(\"Sales per Month\")\n",
    "plt.xticks(rotation = 90)\n",
    "plt.xlim(graphData.index[0], graphData.index[-1])\n",
    "\n",
    "plt.show()"
   ]
  },
  {
   "cell_type": "markdown",
   "id": "8f939b73-faf5-492a-98f1-2ed7c679e4fa",
   "metadata": {},
   "source": [
    "As shown in the graph, sales are generally steady throughout the year, but have massive drops in the month of February and smaller drops in September. Nevertheless, they stabilize in the succeeding months of March and October. Furthermore, it is interesting to note that sales do not peak in December considering that December is the peak of Christmas season."
   ]
  },
  {
   "cell_type": "markdown",
   "id": "0e90a93c-3390-44b9-a4d7-fc66985272e8",
   "metadata": {},
   "source": [
    "# Hard"
   ]
  },
  {
   "cell_type": "markdown",
   "id": "5fcfc4f2-e2b4-4668-ba1f-35988986501e",
   "metadata": {},
   "source": [
    "1. Create a pivot table showing the breakdown of sales across these dimensions, in this order: category, decade age range (e.g., 10-19, 20-29, and so forth)."
   ]
  },
  {
   "cell_type": "code",
   "execution_count": 14,
   "id": "88a574ac-ff63-466d-9999-ef34e8d9468d",
   "metadata": {},
   "outputs": [
    {
     "name": "stderr",
     "output_type": "stream",
     "text": [
      "C:\\Users\\migue\\AppData\\Local\\Temp\\ipykernel_22016\\748559579.py:23: FutureWarning: The default value of numeric_only in DataFrameGroupBy.sum is deprecated. In a future version, numeric_only will default to False. Either specify numeric_only or select only columns which should be valid for the function.\n",
      "  data = mergeddf.groupby(['category','ageRange']).sum()['sales']\n"
     ]
    },
    {
     "ename": "KeyError",
     "evalue": "'sales'",
     "output_type": "error",
     "traceback": [
      "\u001b[1;31m---------------------------------------------------------------------------\u001b[0m",
      "\u001b[1;31mKeyError\u001b[0m                                  Traceback (most recent call last)",
      "Cell \u001b[1;32mIn[14], line 25\u001b[0m\n\u001b[0;32m     22\u001b[0m mergeddf[\u001b[38;5;124m'\u001b[39m\u001b[38;5;124mageRange\u001b[39m\u001b[38;5;124m'\u001b[39m] \u001b[38;5;241m=\u001b[39m mergeddf[\u001b[38;5;124m'\u001b[39m\u001b[38;5;124mage\u001b[39m\u001b[38;5;124m'\u001b[39m]\u001b[38;5;241m.\u001b[39mapply(age_Range)\n\u001b[0;32m     23\u001b[0m data \u001b[38;5;241m=\u001b[39m mergeddf\u001b[38;5;241m.\u001b[39mgroupby([\u001b[38;5;124m'\u001b[39m\u001b[38;5;124mcategory\u001b[39m\u001b[38;5;124m'\u001b[39m,\u001b[38;5;124m'\u001b[39m\u001b[38;5;124mageRange\u001b[39m\u001b[38;5;124m'\u001b[39m])\u001b[38;5;241m.\u001b[39msum()[\u001b[38;5;124m'\u001b[39m\u001b[38;5;124msales\u001b[39m\u001b[38;5;124m'\u001b[39m]\n\u001b[1;32m---> 25\u001b[0m pivot_table \u001b[38;5;241m=\u001b[39m \u001b[43mpd\u001b[49m\u001b[38;5;241;43m.\u001b[39;49m\u001b[43mpivot_table\u001b[49m\u001b[43m(\u001b[49m\u001b[43mdata\u001b[49m\u001b[43m,\u001b[49m\u001b[43m \u001b[49m\u001b[43mvalues\u001b[49m\u001b[38;5;241;43m=\u001b[39;49m\u001b[38;5;124;43m'\u001b[39;49m\u001b[38;5;124;43msales\u001b[39;49m\u001b[38;5;124;43m'\u001b[39;49m\u001b[43m,\u001b[49m\u001b[43m \u001b[49m\u001b[43mindex\u001b[49m\u001b[38;5;241;43m=\u001b[39;49m\u001b[38;5;124;43m'\u001b[39;49m\u001b[38;5;124;43mcategory\u001b[39;49m\u001b[38;5;124;43m'\u001b[39;49m\u001b[43m,\u001b[49m\u001b[43m \u001b[49m\u001b[43mcolumns\u001b[49m\u001b[38;5;241;43m=\u001b[39;49m\u001b[38;5;124;43m'\u001b[39;49m\u001b[38;5;124;43mageRange\u001b[39;49m\u001b[38;5;124;43m'\u001b[39;49m\u001b[43m,\u001b[49m\u001b[43m \u001b[49m\u001b[43maggfunc\u001b[49m\u001b[38;5;241;43m=\u001b[39;49m\u001b[38;5;28;43msum\u001b[39;49m\u001b[43m)\u001b[49m\n",
      "File \u001b[1;32m~\\anaconda3\\lib\\site-packages\\pandas\\core\\reshape\\pivot.py:97\u001b[0m, in \u001b[0;36mpivot_table\u001b[1;34m(data, values, index, columns, aggfunc, fill_value, margins, dropna, margins_name, observed, sort)\u001b[0m\n\u001b[0;32m     94\u001b[0m     table \u001b[38;5;241m=\u001b[39m concat(pieces, keys\u001b[38;5;241m=\u001b[39mkeys, axis\u001b[38;5;241m=\u001b[39m\u001b[38;5;241m1\u001b[39m)\n\u001b[0;32m     95\u001b[0m     \u001b[38;5;28;01mreturn\u001b[39;00m table\u001b[38;5;241m.\u001b[39m__finalize__(data, method\u001b[38;5;241m=\u001b[39m\u001b[38;5;124m\"\u001b[39m\u001b[38;5;124mpivot_table\u001b[39m\u001b[38;5;124m\"\u001b[39m)\n\u001b[1;32m---> 97\u001b[0m table \u001b[38;5;241m=\u001b[39m \u001b[43m__internal_pivot_table\u001b[49m\u001b[43m(\u001b[49m\n\u001b[0;32m     98\u001b[0m \u001b[43m    \u001b[49m\u001b[43mdata\u001b[49m\u001b[43m,\u001b[49m\n\u001b[0;32m     99\u001b[0m \u001b[43m    \u001b[49m\u001b[43mvalues\u001b[49m\u001b[43m,\u001b[49m\n\u001b[0;32m    100\u001b[0m \u001b[43m    \u001b[49m\u001b[43mindex\u001b[49m\u001b[43m,\u001b[49m\n\u001b[0;32m    101\u001b[0m \u001b[43m    \u001b[49m\u001b[43mcolumns\u001b[49m\u001b[43m,\u001b[49m\n\u001b[0;32m    102\u001b[0m \u001b[43m    \u001b[49m\u001b[43maggfunc\u001b[49m\u001b[43m,\u001b[49m\n\u001b[0;32m    103\u001b[0m \u001b[43m    \u001b[49m\u001b[43mfill_value\u001b[49m\u001b[43m,\u001b[49m\n\u001b[0;32m    104\u001b[0m \u001b[43m    \u001b[49m\u001b[43mmargins\u001b[49m\u001b[43m,\u001b[49m\n\u001b[0;32m    105\u001b[0m \u001b[43m    \u001b[49m\u001b[43mdropna\u001b[49m\u001b[43m,\u001b[49m\n\u001b[0;32m    106\u001b[0m \u001b[43m    \u001b[49m\u001b[43mmargins_name\u001b[49m\u001b[43m,\u001b[49m\n\u001b[0;32m    107\u001b[0m \u001b[43m    \u001b[49m\u001b[43mobserved\u001b[49m\u001b[43m,\u001b[49m\n\u001b[0;32m    108\u001b[0m \u001b[43m    \u001b[49m\u001b[43msort\u001b[49m\u001b[43m,\u001b[49m\n\u001b[0;32m    109\u001b[0m \u001b[43m\u001b[49m\u001b[43m)\u001b[49m\n\u001b[0;32m    110\u001b[0m \u001b[38;5;28;01mreturn\u001b[39;00m table\u001b[38;5;241m.\u001b[39m__finalize__(data, method\u001b[38;5;241m=\u001b[39m\u001b[38;5;124m\"\u001b[39m\u001b[38;5;124mpivot_table\u001b[39m\u001b[38;5;124m\"\u001b[39m)\n",
      "File \u001b[1;32m~\\anaconda3\\lib\\site-packages\\pandas\\core\\reshape\\pivot.py:143\u001b[0m, in \u001b[0;36m__internal_pivot_table\u001b[1;34m(data, values, index, columns, aggfunc, fill_value, margins, dropna, margins_name, observed, sort)\u001b[0m\n\u001b[0;32m    141\u001b[0m \u001b[38;5;28;01mfor\u001b[39;00m i \u001b[38;5;129;01min\u001b[39;00m values:\n\u001b[0;32m    142\u001b[0m     \u001b[38;5;28;01mif\u001b[39;00m i \u001b[38;5;129;01mnot\u001b[39;00m \u001b[38;5;129;01min\u001b[39;00m data:\n\u001b[1;32m--> 143\u001b[0m         \u001b[38;5;28;01mraise\u001b[39;00m \u001b[38;5;167;01mKeyError\u001b[39;00m(i)\n\u001b[0;32m    145\u001b[0m to_filter \u001b[38;5;241m=\u001b[39m []\n\u001b[0;32m    146\u001b[0m \u001b[38;5;28;01mfor\u001b[39;00m x \u001b[38;5;129;01min\u001b[39;00m keys \u001b[38;5;241m+\u001b[39m values:\n",
      "\u001b[1;31mKeyError\u001b[0m: 'sales'"
     ]
    }
   ],
   "source": [
    "pd.set_option('display.max_rows', None)\n",
    "def age_Range(age):\n",
    "    ageBracket = ''\n",
    "    if age < 20:\n",
    "        ageBracket = '10-19'\n",
    "    elif age < 30:\n",
    "        ageBracket = '20-29'\n",
    "    elif age < 40:\n",
    "        ageBracket = '30-39'\n",
    "    elif age < 50:\n",
    "        ageBracket = '40-49'\n",
    "    elif age < 60:\n",
    "        ageBracket = '50-59'\n",
    "    elif age < 70:\n",
    "        ageBracket = '60-69'\n",
    "    elif age < 80:\n",
    "        ageBracket = '70-79'\n",
    "    elif age < 90:\n",
    "        ageBracket = '80-89'\n",
    "    return ageBracket\n",
    "        \n",
    "mergeddf['ageRange'] = mergeddf['age'].apply(age_Range)\n",
    "#data = mergeddf.groupby(['category','ageRange']).sum()['sales']\n",
    "\n",
    "pivot_table = pd.pivot_table(data, values='sales', index='category', columns='ageRange', aggfunc=sum)"
   ]
  }
 ],
 "metadata": {
  "kernelspec": {
   "display_name": "Python 3 (ipykernel)",
   "language": "python",
   "name": "python3"
  },
  "language_info": {
   "codemirror_mode": {
    "name": "ipython",
    "version": 3
   },
   "file_extension": ".py",
   "mimetype": "text/x-python",
   "name": "python",
   "nbconvert_exporter": "python",
   "pygments_lexer": "ipython3",
   "version": "3.10.9"
  }
 },
 "nbformat": 4,
 "nbformat_minor": 5
}
